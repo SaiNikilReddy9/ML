{
 "cells": [
  {
   "cell_type": "code",
   "execution_count": 1,
   "id": "08a09026-a9cd-474d-9737-503f802229e8",
   "metadata": {},
   "outputs": [
    {
     "name": "stdout",
     "output_type": "stream",
     "text": [
      "Prior Probabilities for Each Class:\n",
      "buys_computer\n",
      "yes    0.642857\n",
      "no     0.357143\n",
      "Name: count, dtype: float64\n"
     ]
    }
   ],
   "source": [
    "import pandas as pd\n",
    "\n",
    "# Creating the dataset based on the provided table\n",
    "data = {\n",
    "    'age': ['<=30', '<=30', '31…40', '>40', '>40', '>40', '31…40', '<=30', '<=30', '>40', '<=30', '31…40', '31…40', '>40'],\n",
    "    'income': ['high', 'high', 'high', 'medium', 'low', 'low', 'low', 'medium', 'low', 'medium', 'medium', 'medium', 'high', 'medium'],\n",
    "    'student': ['no', 'no', 'no', 'no', 'yes', 'yes', 'yes', 'no', 'yes', 'yes', 'yes', 'no', 'yes', 'no'],\n",
    "    'credit_rating': ['fair', 'excellent', 'fair', 'fair', 'fair', 'excellent', 'excellent', 'fair', 'fair', 'fair', 'excellent', 'excellent', 'fair', 'excellent'],\n",
    "    'buys_computer': ['no', 'no', 'yes', 'yes', 'yes', 'no', 'yes', 'no', 'yes', 'yes', 'yes', 'yes', 'yes', 'no']\n",
    "}\n",
    "\n",
    "# Convert the dataset to a pandas DataFrame\n",
    "df = pd.DataFrame(data)\n",
    "\n",
    "# Calculating prior probabilities for each class\n",
    "total_data_points = len(df)\n",
    "prior_probabilities = df['buys_computer'].value_counts() / total_data_points\n",
    "\n",
    "# Displaying the prior probabilities\n",
    "print(\"Prior Probabilities for Each Class:\")\n",
    "print(prior_probabilities)"
   ]
  },
  {
   "cell_type": "code",
   "execution_count": 3,
   "id": "133b2cbc-2b6e-4fb0-a7fc-e65af7c9835a",
   "metadata": {},
   "outputs": [
    {
     "name": "stdout",
     "output_type": "stream",
     "text": [
      "Class Conditional Densities:\n",
      "                              age    income   student  credit_rating  \\\n",
      "buys_computer                                                          \n",
      "no            <=30       0.600000       NaN       NaN            NaN   \n",
      "              >40        0.400000       NaN       NaN            NaN   \n",
      "              excellent       NaN       NaN       NaN       0.600000   \n",
      "              fair            NaN       NaN       NaN       0.400000   \n",
      "              high            NaN  0.400000       NaN            NaN   \n",
      "              low             NaN  0.200000       NaN            NaN   \n",
      "              medium          NaN  0.400000       NaN            NaN   \n",
      "              no              NaN       NaN  0.800000            NaN   \n",
      "              yes             NaN       NaN  0.200000            NaN   \n",
      "yes           31…40      0.444444       NaN       NaN            NaN   \n",
      "              <=30       0.222222       NaN       NaN            NaN   \n",
      "              >40        0.333333       NaN       NaN            NaN   \n",
      "              excellent       NaN       NaN       NaN       0.333333   \n",
      "              fair            NaN       NaN       NaN       0.666667   \n",
      "              high            NaN  0.222222       NaN            NaN   \n",
      "              low             NaN  0.333333       NaN            NaN   \n",
      "              medium          NaN  0.444444       NaN            NaN   \n",
      "              no              NaN       NaN  0.333333            NaN   \n",
      "              yes             NaN       NaN  0.666667            NaN   \n",
      "\n",
      "                         buys_computer  \n",
      "buys_computer                           \n",
      "no            <=30                 NaN  \n",
      "              >40                  NaN  \n",
      "              excellent            NaN  \n",
      "              fair                 NaN  \n",
      "              high                 NaN  \n",
      "              low                  NaN  \n",
      "              medium               NaN  \n",
      "              no                   1.0  \n",
      "              yes                  NaN  \n",
      "yes           31…40                NaN  \n",
      "              <=30                 NaN  \n",
      "              >40                  NaN  \n",
      "              excellent            NaN  \n",
      "              fair                 NaN  \n",
      "              high                 NaN  \n",
      "              low                  NaN  \n",
      "              medium               NaN  \n",
      "              no                   NaN  \n",
      "              yes                  1.0  \n"
     ]
    },
    {
     "name": "stderr",
     "output_type": "stream",
     "text": [
      "C:\\Users\\saini\\AppData\\Local\\Temp\\ipykernel_39068\\3813837773.py:2: DeprecationWarning: DataFrameGroupBy.apply operated on the grouping columns. This behavior is deprecated, and in a future version of pandas the grouping columns will be excluded from the operation. Either pass `include_groups=False` to exclude the groupings or explicitly select the grouping columns after groupby to silence this warning.\n",
      "  class_conditional = df.groupby('buys_computer').apply(lambda x: x.apply(lambda y: y.value_counts(normalize=True)))\n"
     ]
    }
   ],
   "source": [
    "# Calculating class conditional probabilities for each feature\n",
    "class_conditional = df.groupby('buys_computer').apply(lambda x: x.apply(lambda y: y.value_counts(normalize=True)))\n",
    "\n",
    "# Displaying the class conditional probabilities\n",
    "print(\"Class Conditional Densities:\")\n",
    "print(class_conditional)"
   ]
  },
  {
   "cell_type": "code",
   "execution_count": 5,
   "id": "1fdcfa7e-e33c-4238-b6e8-e9c22bb818bb",
   "metadata": {},
   "outputs": [
    {
     "name": "stdout",
     "output_type": "stream",
     "text": [
      "Correlation Matrix (Independence Test):\n",
      "                        age    income       student  credit_rating  \\\n",
      "age            1.000000e+00  0.335410  1.690309e-01  -5.688200e-17   \n",
      "income         3.354102e-01  1.000000  5.669467e-01   1.909407e-01   \n",
      "student        1.690309e-01  0.566947  1.000000e+00   1.602469e-17   \n",
      "credit_rating -5.688200e-17  0.190941  1.602469e-17   1.000000e+00   \n",
      "buys_computer  1.763834e-01  0.197203  4.472136e-01  -2.581989e-01   \n",
      "\n",
      "               buys_computer  \n",
      "age                 0.176383  \n",
      "income              0.197203  \n",
      "student             0.447214  \n",
      "credit_rating      -0.258199  \n",
      "buys_computer       1.000000  \n"
     ]
    }
   ],
   "source": [
    "# Converting categorical data to numerical values for correlation calculation\n",
    "df_encoded = df.apply(lambda x: pd.factorize(x)[0])\n",
    "\n",
    "# Calculating the correlation matrix to check independence\n",
    "correlation_matrix = df_encoded.corr()\n",
    "\n",
    "# Displaying the correlation matrix\n",
    "print(\"Correlation Matrix (Independence Test):\")\n",
    "print(correlation_matrix)"
   ]
  },
  {
   "cell_type": "code",
   "execution_count": 7,
   "id": "30a5b827-e205-49c2-a793-f9ff44893925",
   "metadata": {},
   "outputs": [
    {
     "name": "stdout",
     "output_type": "stream",
     "text": [
      "Naive Bayes Classifier Accuracy: 60.00%\n"
     ]
    }
   ],
   "source": [
    "from sklearn.model_selection import train_test_split\n",
    "from sklearn.naive_bayes import GaussianNB\n",
    "from sklearn.metrics import accuracy_score\n",
    "\n",
    "# Preparing the features and target\n",
    "X = df.drop('buys_computer', axis=1)\n",
    "y = df['buys_computer']\n",
    "\n",
    "# Encoding categorical variables\n",
    "X_encoded = X.apply(lambda x: pd.factorize(x)[0])\n",
    "y_encoded = pd.factorize(y)[0]\n",
    "\n",
    "# Splitting the data into training and test sets\n",
    "X_train, X_test, y_train, y_test = train_test_split(X_encoded, y_encoded, test_size=0.3, random_state=42)\n",
    "\n",
    "# Building and training the Naive Bayes classifier\n",
    "model = GaussianNB()\n",
    "model.fit(X_train, y_train)\n",
    "\n",
    "# Predicting on the test set\n",
    "y_pred = model.predict(X_test)\n",
    "\n",
    "# Evaluating the model\n",
    "accuracy = accuracy_score(y_test, y_pred)\n",
    "print(f\"Naive Bayes Classifier Accuracy: {accuracy * 100:.2f}%\")"
   ]
  },
  {
   "cell_type": "code",
   "execution_count": 15,
   "id": "e607671c-16a6-4045-a6ef-9917190eb0a6",
   "metadata": {},
   "outputs": [
    {
     "name": "stdout",
     "output_type": "stream",
     "text": [
      "Naive Bayes Classifier Accuracy: 79.77%\n"
     ]
    }
   ],
   "source": [
    "import pandas as pd\n",
    "from sklearn.model_selection import train_test_split\n",
    "from sklearn.preprocessing import LabelEncoder\n",
    "from sklearn.naive_bayes import GaussianNB\n",
    "from sklearn.metrics import accuracy_score\n",
    "from sklearn.impute import SimpleImputer\n",
    "\n",
    "# Load the dataset\n",
    "data = pd.read_csv(r\"D:\\5th sem\\machine learning\\Water Quality Prediction.csv\")\n",
    "\n",
    "# Split the data into features (X) and target (y)\n",
    "X = data.drop('Target', axis=1)\n",
    "y = data['Target']\n",
    "\n",
    "# Separate numeric and categorical columns\n",
    "numeric_cols = X.select_dtypes(include=['float64', 'int64']).columns\n",
    "categorical_cols = X.select_dtypes(include=['object']).columns\n",
    "\n",
    "# Impute missing values for numeric columns with the mean\n",
    "numeric_imputer = SimpleImputer(strategy='mean')\n",
    "X[numeric_cols] = numeric_imputer.fit_transform(X[numeric_cols])\n",
    "\n",
    "# Impute missing values for categorical columns with the most frequent value\n",
    "categorical_imputer = SimpleImputer(strategy='most_frequent')\n",
    "X[categorical_cols] = categorical_imputer.fit_transform(X[categorical_cols])\n",
    "\n",
    "# Encode categorical columns using LabelEncoder\n",
    "le = LabelEncoder()\n",
    "for col in categorical_cols:\n",
    "    X[col] = le.fit_transform(X[col])\n",
    "\n",
    "# Encode the target column\n",
    "y_encoded = le.fit_transform(y)\n",
    "\n",
    "# Split the dataset into training and testing sets\n",
    "X_train, X_test, y_train, y_test = train_test_split(X, y_encoded, test_size=0.3, random_state=42)\n",
    "\n",
    "# Train a Naive Bayes classifier on the dataset\n",
    "model = GaussianNB()\n",
    "model.fit(X_train, y_train)\n",
    "\n",
    "# Predict on the test set and evaluate the model\n",
    "y_pred = model.predict(X_test)\n",
    "accuracy = accuracy_score(y_test, y_pred)\n",
    "\n",
    "print(f\"Naive Bayes Classifier Accuracy: {accuracy * 100:.2f}%\")\n"
   ]
  },
  {
   "cell_type": "code",
   "execution_count": null,
   "id": "a6d5b43d-7843-4bdd-91af-14e3c3af29ac",
   "metadata": {},
   "outputs": [],
   "source": []
  }
 ],
 "metadata": {
  "kernelspec": {
   "display_name": "Python 3 (ipykernel)",
   "language": "python",
   "name": "python3"
  },
  "language_info": {
   "codemirror_mode": {
    "name": "ipython",
    "version": 3
   },
   "file_extension": ".py",
   "mimetype": "text/x-python",
   "name": "python",
   "nbconvert_exporter": "python",
   "pygments_lexer": "ipython3",
   "version": "3.12.4"
  }
 },
 "nbformat": 4,
 "nbformat_minor": 5
}
